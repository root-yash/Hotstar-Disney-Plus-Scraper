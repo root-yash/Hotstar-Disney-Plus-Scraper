{
 "cells": [
  {
   "cell_type": "code",
   "execution_count": 5,
   "metadata": {},
   "outputs": [],
   "source": [
    "# import libraries\n",
    "import asyncio\n",
    "from pyppeteer import launch\n",
    "from bs4 import BeautifulSoup\n",
    "import numpy as np\n",
    "import nest_asyncio\n",
    "nest_asyncio.apply()"
   ]
  },
  {
   "cell_type": "code",
   "execution_count": 35,
   "metadata": {},
   "outputs": [
    {
     "ename": "NetworkError",
     "evalue": "Protocol Error (Runtime.callFunctionOn): Session closed. Most likely the page has been closed.",
     "output_type": "error",
     "traceback": [
      "\u001b[1;31m---------------------------------------------------------------------------\u001b[0m",
      "\u001b[1;31mNetworkError\u001b[0m                              Traceback (most recent call last)",
      "\u001b[1;32md:\\gitrepos\\scraper\\Hotstar-Disney-Plus-Scraper\\scraper.ipynb Cell 2'\u001b[0m in \u001b[0;36m<cell line: 35>\u001b[1;34m()\u001b[0m\n\u001b[0;32m     <a href='vscode-notebook-cell:/d%3A/gitrepos/scraper/Hotstar-Disney-Plus-Scraper/scraper.ipynb#ch0000007?line=32'>33</a>\u001b[0m         \u001b[39mawait\u001b[39;00m asyncio\u001b[39m.\u001b[39msleep(np\u001b[39m.\u001b[39mrandom\u001b[39m.\u001b[39mrandint(\u001b[39m5\u001b[39m, \u001b[39m8\u001b[39m))  \u001b[39m# will wait to sending requests for 5 to 8 seconds\u001b[39;00m\n\u001b[0;32m     <a href='vscode-notebook-cell:/d%3A/gitrepos/scraper/Hotstar-Disney-Plus-Scraper/scraper.ipynb#ch0000007?line=33'>34</a>\u001b[0m     \u001b[39mawait\u001b[39;00m browser\u001b[39m.\u001b[39mclose()\n\u001b[1;32m---> <a href='vscode-notebook-cell:/d%3A/gitrepos/scraper/Hotstar-Disney-Plus-Scraper/scraper.ipynb#ch0000007?line=34'>35</a>\u001b[0m asyncio\u001b[39m.\u001b[39;49mget_event_loop()\u001b[39m.\u001b[39;49mrun_until_complete(main())\n\u001b[0;32m     <a href='vscode-notebook-cell:/d%3A/gitrepos/scraper/Hotstar-Disney-Plus-Scraper/scraper.ipynb#ch0000007?line=35'>36</a>\u001b[0m \u001b[39mprint\u001b[39m(\u001b[39mlen\u001b[39m(episodes))\n",
      "File \u001b[1;32md:\\gitrepos\\scraper\\Hotstar-Disney-Plus-Scraper\\scrap\\lib\\site-packages\\nest_asyncio.py:89\u001b[0m, in \u001b[0;36m_patch_loop.<locals>.run_until_complete\u001b[1;34m(self, future)\u001b[0m\n\u001b[0;32m     <a href='file:///d%3A/gitrepos/scraper/Hotstar-Disney-Plus-Scraper/scrap/lib/site-packages/nest_asyncio.py?line=85'>86</a>\u001b[0m \u001b[39mif\u001b[39;00m \u001b[39mnot\u001b[39;00m f\u001b[39m.\u001b[39mdone():\n\u001b[0;32m     <a href='file:///d%3A/gitrepos/scraper/Hotstar-Disney-Plus-Scraper/scrap/lib/site-packages/nest_asyncio.py?line=86'>87</a>\u001b[0m     \u001b[39mraise\u001b[39;00m \u001b[39mRuntimeError\u001b[39;00m(\n\u001b[0;32m     <a href='file:///d%3A/gitrepos/scraper/Hotstar-Disney-Plus-Scraper/scrap/lib/site-packages/nest_asyncio.py?line=87'>88</a>\u001b[0m         \u001b[39m'\u001b[39m\u001b[39mEvent loop stopped before Future completed.\u001b[39m\u001b[39m'\u001b[39m)\n\u001b[1;32m---> <a href='file:///d%3A/gitrepos/scraper/Hotstar-Disney-Plus-Scraper/scrap/lib/site-packages/nest_asyncio.py?line=88'>89</a>\u001b[0m \u001b[39mreturn\u001b[39;00m f\u001b[39m.\u001b[39;49mresult()\n",
      "File \u001b[1;32m~\\AppData\\Local\\Programs\\Python\\Python38-32\\lib\\asyncio\\futures.py:178\u001b[0m, in \u001b[0;36mFuture.result\u001b[1;34m(self)\u001b[0m\n\u001b[0;32m    <a href='file:///c%3A/Users/yashg/AppData/Local/Programs/Python/Python38-32/lib/asyncio/futures.py?line=175'>176</a>\u001b[0m \u001b[39mself\u001b[39m\u001b[39m.\u001b[39m__log_traceback \u001b[39m=\u001b[39m \u001b[39mFalse\u001b[39;00m\n\u001b[0;32m    <a href='file:///c%3A/Users/yashg/AppData/Local/Programs/Python/Python38-32/lib/asyncio/futures.py?line=176'>177</a>\u001b[0m \u001b[39mif\u001b[39;00m \u001b[39mself\u001b[39m\u001b[39m.\u001b[39m_exception \u001b[39mis\u001b[39;00m \u001b[39mnot\u001b[39;00m \u001b[39mNone\u001b[39;00m:\n\u001b[1;32m--> <a href='file:///c%3A/Users/yashg/AppData/Local/Programs/Python/Python38-32/lib/asyncio/futures.py?line=177'>178</a>\u001b[0m     \u001b[39mraise\u001b[39;00m \u001b[39mself\u001b[39m\u001b[39m.\u001b[39m_exception\n\u001b[0;32m    <a href='file:///c%3A/Users/yashg/AppData/Local/Programs/Python/Python38-32/lib/asyncio/futures.py?line=178'>179</a>\u001b[0m \u001b[39mreturn\u001b[39;00m \u001b[39mself\u001b[39m\u001b[39m.\u001b[39m_result\n",
      "File \u001b[1;32m~\\AppData\\Local\\Programs\\Python\\Python38-32\\lib\\asyncio\\tasks.py:280\u001b[0m, in \u001b[0;36mTask.__step\u001b[1;34m(***failed resolving arguments***)\u001b[0m\n\u001b[0;32m    <a href='file:///c%3A/Users/yashg/AppData/Local/Programs/Python/Python38-32/lib/asyncio/tasks.py?line=275'>276</a>\u001b[0m \u001b[39mtry\u001b[39;00m:\n\u001b[0;32m    <a href='file:///c%3A/Users/yashg/AppData/Local/Programs/Python/Python38-32/lib/asyncio/tasks.py?line=276'>277</a>\u001b[0m     \u001b[39mif\u001b[39;00m exc \u001b[39mis\u001b[39;00m \u001b[39mNone\u001b[39;00m:\n\u001b[0;32m    <a href='file:///c%3A/Users/yashg/AppData/Local/Programs/Python/Python38-32/lib/asyncio/tasks.py?line=277'>278</a>\u001b[0m         \u001b[39m# We use the `send` method directly, because coroutines\u001b[39;00m\n\u001b[0;32m    <a href='file:///c%3A/Users/yashg/AppData/Local/Programs/Python/Python38-32/lib/asyncio/tasks.py?line=278'>279</a>\u001b[0m         \u001b[39m# don't have `__iter__` and `__next__` methods.\u001b[39;00m\n\u001b[1;32m--> <a href='file:///c%3A/Users/yashg/AppData/Local/Programs/Python/Python38-32/lib/asyncio/tasks.py?line=279'>280</a>\u001b[0m         result \u001b[39m=\u001b[39m coro\u001b[39m.\u001b[39;49msend(\u001b[39mNone\u001b[39;49;00m)\n\u001b[0;32m    <a href='file:///c%3A/Users/yashg/AppData/Local/Programs/Python/Python38-32/lib/asyncio/tasks.py?line=280'>281</a>\u001b[0m     \u001b[39melse\u001b[39;00m:\n\u001b[0;32m    <a href='file:///c%3A/Users/yashg/AppData/Local/Programs/Python/Python38-32/lib/asyncio/tasks.py?line=281'>282</a>\u001b[0m         result \u001b[39m=\u001b[39m coro\u001b[39m.\u001b[39mthrow(exc)\n",
      "\u001b[1;32md:\\gitrepos\\scraper\\Hotstar-Disney-Plus-Scraper\\scraper.ipynb Cell 2'\u001b[0m in \u001b[0;36mmain\u001b[1;34m()\u001b[0m\n\u001b[0;32m      <a href='vscode-notebook-cell:/d%3A/gitrepos/scraper/Hotstar-Disney-Plus-Scraper/scraper.ipynb#ch0000007?line=8'>9</a>\u001b[0m \u001b[39mawait\u001b[39;00m page\u001b[39m.\u001b[39mgoto(\u001b[39m'\u001b[39m\u001b[39mhttps://www.hotstar.com/in/genres/drama\u001b[39m\u001b[39m'\u001b[39m)\n\u001b[0;32m     <a href='vscode-notebook-cell:/d%3A/gitrepos/scraper/Hotstar-Disney-Plus-Scraper/scraper.ipynb#ch0000007?line=10'>11</a>\u001b[0m \u001b[39mwhile\u001b[39;00m \u001b[39mlen\u001b[39m(episodes) \u001b[39m<\u001b[39m\u001b[39m=\u001b[39m \u001b[39m400\u001b[39m:\n\u001b[1;32m---> <a href='vscode-notebook-cell:/d%3A/gitrepos/scraper/Hotstar-Disney-Plus-Scraper/scraper.ipynb#ch0000007?line=11'>12</a>\u001b[0m     html \u001b[39m=\u001b[39m \u001b[39mawait\u001b[39;00m page\u001b[39m.\u001b[39mevaluate(\u001b[39m'''\u001b[39m\u001b[39m() => \u001b[39m\u001b[39m{\u001b[39m\n\u001b[0;32m     <a href='vscode-notebook-cell:/d%3A/gitrepos/scraper/Hotstar-Disney-Plus-Scraper/scraper.ipynb#ch0000007?line=12'>13</a>\u001b[0m \u001b[39m        return document.querySelector(\u001b[39m\u001b[39m'\u001b[39m\u001b[39m.landing-page\u001b[39m\u001b[39m'\u001b[39m\u001b[39m).innerHTML;\u001b[39m\n\u001b[0;32m     <a href='vscode-notebook-cell:/d%3A/gitrepos/scraper/Hotstar-Disney-Plus-Scraper/scraper.ipynb#ch0000007?line=13'>14</a>\u001b[0m \u001b[39m    }\u001b[39m\u001b[39m'''\u001b[39m)\n\u001b[0;32m     <a href='vscode-notebook-cell:/d%3A/gitrepos/scraper/Hotstar-Disney-Plus-Scraper/scraper.ipynb#ch0000007?line=14'>15</a>\u001b[0m     \u001b[39m# find episode date, link and detail\u001b[39;00m\n\u001b[0;32m     <a href='vscode-notebook-cell:/d%3A/gitrepos/scraper/Hotstar-Disney-Plus-Scraper/scraper.ipynb#ch0000007?line=15'>16</a>\u001b[0m     episodes_html \u001b[39m=\u001b[39m BeautifulSoup(html, \u001b[39m'\u001b[39m\u001b[39mhtml.parser\u001b[39m\u001b[39m'\u001b[39m)\n",
      "File \u001b[1;32md:\\gitrepos\\scraper\\Hotstar-Disney-Plus-Scraper\\scrap\\lib\\site-packages\\pyppeteer\\page.py:1116\u001b[0m, in \u001b[0;36mPage.evaluate\u001b[1;34m(self, pageFunction, force_expr, *args)\u001b[0m\n\u001b[0;32m   <a href='file:///d%3A/gitrepos/scraper/Hotstar-Disney-Plus-Scraper/scrap/lib/site-packages/pyppeteer/page.py?line=1113'>1114</a>\u001b[0m \u001b[39mif\u001b[39;00m frame \u001b[39mis\u001b[39;00m \u001b[39mNone\u001b[39;00m:\n\u001b[0;32m   <a href='file:///d%3A/gitrepos/scraper/Hotstar-Disney-Plus-Scraper/scrap/lib/site-packages/pyppeteer/page.py?line=1114'>1115</a>\u001b[0m     \u001b[39mraise\u001b[39;00m PageError(\u001b[39m'\u001b[39m\u001b[39mNo main frame.\u001b[39m\u001b[39m'\u001b[39m)\n\u001b[1;32m-> <a href='file:///d%3A/gitrepos/scraper/Hotstar-Disney-Plus-Scraper/scrap/lib/site-packages/pyppeteer/page.py?line=1115'>1116</a>\u001b[0m \u001b[39mreturn\u001b[39;00m \u001b[39mawait\u001b[39;00m frame\u001b[39m.\u001b[39mevaluate(pageFunction, \u001b[39m*\u001b[39margs, force_expr\u001b[39m=\u001b[39mforce_expr)\n",
      "File \u001b[1;32md:\\gitrepos\\scraper\\Hotstar-Disney-Plus-Scraper\\scrap\\lib\\site-packages\\pyppeteer\\frame_manager.py:308\u001b[0m, in \u001b[0;36mFrame.evaluate\u001b[1;34m(self, pageFunction, force_expr, *args)\u001b[0m\n\u001b[0;32m    <a href='file:///d%3A/gitrepos/scraper/Hotstar-Disney-Plus-Scraper/scrap/lib/site-packages/pyppeteer/frame_manager.py?line=305'>306</a>\u001b[0m \u001b[39mif\u001b[39;00m context \u001b[39mis\u001b[39;00m \u001b[39mNone\u001b[39;00m:\n\u001b[0;32m    <a href='file:///d%3A/gitrepos/scraper/Hotstar-Disney-Plus-Scraper/scrap/lib/site-packages/pyppeteer/frame_manager.py?line=306'>307</a>\u001b[0m     \u001b[39mraise\u001b[39;00m ElementHandleError(\u001b[39m'\u001b[39m\u001b[39mExecutionContext is None.\u001b[39m\u001b[39m'\u001b[39m)\n\u001b[1;32m--> <a href='file:///d%3A/gitrepos/scraper/Hotstar-Disney-Plus-Scraper/scrap/lib/site-packages/pyppeteer/frame_manager.py?line=307'>308</a>\u001b[0m \u001b[39mreturn\u001b[39;00m \u001b[39mawait\u001b[39;00m context\u001b[39m.\u001b[39mevaluate(\n\u001b[0;32m    <a href='file:///d%3A/gitrepos/scraper/Hotstar-Disney-Plus-Scraper/scrap/lib/site-packages/pyppeteer/frame_manager.py?line=308'>309</a>\u001b[0m     pageFunction, \u001b[39m*\u001b[39margs, force_expr\u001b[39m=\u001b[39mforce_expr)\n",
      "File \u001b[1;32md:\\gitrepos\\scraper\\Hotstar-Disney-Plus-Scraper\\scrap\\lib\\site-packages\\pyppeteer\\execution_context.py:53\u001b[0m, in \u001b[0;36mExecutionContext.evaluate\u001b[1;34m(self, pageFunction, force_expr, *args)\u001b[0m\n\u001b[0;32m     <a href='file:///d%3A/gitrepos/scraper/Hotstar-Disney-Plus-Scraper/scrap/lib/site-packages/pyppeteer/execution_context.py?line=46'>47</a>\u001b[0m \u001b[39masync\u001b[39;00m \u001b[39mdef\u001b[39;00m \u001b[39mevaluate\u001b[39m(\u001b[39mself\u001b[39m, pageFunction: \u001b[39mstr\u001b[39m, \u001b[39m*\u001b[39margs: Any,\n\u001b[0;32m     <a href='file:///d%3A/gitrepos/scraper/Hotstar-Disney-Plus-Scraper/scrap/lib/site-packages/pyppeteer/execution_context.py?line=47'>48</a>\u001b[0m                    force_expr: \u001b[39mbool\u001b[39m \u001b[39m=\u001b[39m \u001b[39mFalse\u001b[39;00m) \u001b[39m-\u001b[39m\u001b[39m>\u001b[39m Any:\n\u001b[0;32m     <a href='file:///d%3A/gitrepos/scraper/Hotstar-Disney-Plus-Scraper/scrap/lib/site-packages/pyppeteer/execution_context.py?line=48'>49</a>\u001b[0m     \u001b[39m\"\"\"Execute ``pageFunction`` on this context.\u001b[39;00m\n\u001b[0;32m     <a href='file:///d%3A/gitrepos/scraper/Hotstar-Disney-Plus-Scraper/scrap/lib/site-packages/pyppeteer/execution_context.py?line=49'>50</a>\u001b[0m \n\u001b[0;32m     <a href='file:///d%3A/gitrepos/scraper/Hotstar-Disney-Plus-Scraper/scrap/lib/site-packages/pyppeteer/execution_context.py?line=50'>51</a>\u001b[0m \u001b[39m    Details see :meth:`pyppeteer.page.Page.evaluate`.\u001b[39;00m\n\u001b[0;32m     <a href='file:///d%3A/gitrepos/scraper/Hotstar-Disney-Plus-Scraper/scrap/lib/site-packages/pyppeteer/execution_context.py?line=51'>52</a>\u001b[0m \u001b[39m    \"\"\"\u001b[39;00m\n\u001b[1;32m---> <a href='file:///d%3A/gitrepos/scraper/Hotstar-Disney-Plus-Scraper/scrap/lib/site-packages/pyppeteer/execution_context.py?line=52'>53</a>\u001b[0m     handle \u001b[39m=\u001b[39m \u001b[39mawait\u001b[39;00m \u001b[39mself\u001b[39m\u001b[39m.\u001b[39mevaluateHandle(\n\u001b[0;32m     <a href='file:///d%3A/gitrepos/scraper/Hotstar-Disney-Plus-Scraper/scrap/lib/site-packages/pyppeteer/execution_context.py?line=53'>54</a>\u001b[0m         pageFunction, \u001b[39m*\u001b[39margs, force_expr\u001b[39m=\u001b[39mforce_expr)\n\u001b[0;32m     <a href='file:///d%3A/gitrepos/scraper/Hotstar-Disney-Plus-Scraper/scrap/lib/site-packages/pyppeteer/execution_context.py?line=54'>55</a>\u001b[0m     \u001b[39mtry\u001b[39;00m:\n\u001b[0;32m     <a href='file:///d%3A/gitrepos/scraper/Hotstar-Disney-Plus-Scraper/scrap/lib/site-packages/pyppeteer/execution_context.py?line=55'>56</a>\u001b[0m         result \u001b[39m=\u001b[39m \u001b[39mawait\u001b[39;00m handle\u001b[39m.\u001b[39mjsonValue()\n",
      "File \u001b[1;32md:\\gitrepos\\scraper\\Hotstar-Disney-Plus-Scraper\\scrap\\lib\\site-packages\\pyppeteer\\execution_context.py:108\u001b[0m, in \u001b[0;36mExecutionContext.evaluateHandle\u001b[1;34m(self, pageFunction, force_expr, *args)\u001b[0m\n\u001b[0;32m     <a href='file:///d%3A/gitrepos/scraper/Hotstar-Disney-Plus-Scraper/scrap/lib/site-packages/pyppeteer/execution_context.py?line=98'>99</a>\u001b[0m     _obj \u001b[39m=\u001b[39m \u001b[39mawait\u001b[39;00m \u001b[39mself\u001b[39m\u001b[39m.\u001b[39m_client\u001b[39m.\u001b[39msend(\u001b[39m'\u001b[39m\u001b[39mRuntime.callFunctionOn\u001b[39m\u001b[39m'\u001b[39m, {\n\u001b[0;32m    <a href='file:///d%3A/gitrepos/scraper/Hotstar-Disney-Plus-Scraper/scrap/lib/site-packages/pyppeteer/execution_context.py?line=99'>100</a>\u001b[0m         \u001b[39m'\u001b[39m\u001b[39mfunctionDeclaration\u001b[39m\u001b[39m'\u001b[39m: \u001b[39mf\u001b[39m\u001b[39m'\u001b[39m\u001b[39m{\u001b[39;00mpageFunction\u001b[39m}\u001b[39;00m\u001b[39m\\n\u001b[39;00m\u001b[39m{\u001b[39;00msuffix\u001b[39m}\u001b[39;00m\u001b[39m\\n\u001b[39;00m\u001b[39m'\u001b[39m,\n\u001b[0;32m    <a href='file:///d%3A/gitrepos/scraper/Hotstar-Disney-Plus-Scraper/scrap/lib/site-packages/pyppeteer/execution_context.py?line=100'>101</a>\u001b[0m         \u001b[39m'\u001b[39m\u001b[39mexecutionContextId\u001b[39m\u001b[39m'\u001b[39m: \u001b[39mself\u001b[39m\u001b[39m.\u001b[39m_contextId,\n\u001b[1;32m   (...)\u001b[0m\n\u001b[0;32m    <a href='file:///d%3A/gitrepos/scraper/Hotstar-Disney-Plus-Scraper/scrap/lib/site-packages/pyppeteer/execution_context.py?line=104'>105</a>\u001b[0m         \u001b[39m'\u001b[39m\u001b[39muserGesture\u001b[39m\u001b[39m'\u001b[39m: \u001b[39mTrue\u001b[39;00m,\n\u001b[0;32m    <a href='file:///d%3A/gitrepos/scraper/Hotstar-Disney-Plus-Scraper/scrap/lib/site-packages/pyppeteer/execution_context.py?line=105'>106</a>\u001b[0m     })\n\u001b[0;32m    <a href='file:///d%3A/gitrepos/scraper/Hotstar-Disney-Plus-Scraper/scrap/lib/site-packages/pyppeteer/execution_context.py?line=106'>107</a>\u001b[0m \u001b[39mexcept\u001b[39;00m \u001b[39mException\u001b[39;00m \u001b[39mas\u001b[39;00m e:\n\u001b[1;32m--> <a href='file:///d%3A/gitrepos/scraper/Hotstar-Disney-Plus-Scraper/scrap/lib/site-packages/pyppeteer/execution_context.py?line=107'>108</a>\u001b[0m     _rewriteError(e)\n\u001b[0;32m    <a href='file:///d%3A/gitrepos/scraper/Hotstar-Disney-Plus-Scraper/scrap/lib/site-packages/pyppeteer/execution_context.py?line=109'>110</a>\u001b[0m exceptionDetails \u001b[39m=\u001b[39m _obj\u001b[39m.\u001b[39mget(\u001b[39m'\u001b[39m\u001b[39mexceptionDetails\u001b[39m\u001b[39m'\u001b[39m)\n\u001b[0;32m    <a href='file:///d%3A/gitrepos/scraper/Hotstar-Disney-Plus-Scraper/scrap/lib/site-packages/pyppeteer/execution_context.py?line=110'>111</a>\u001b[0m \u001b[39mif\u001b[39;00m exceptionDetails:\n",
      "File \u001b[1;32md:\\gitrepos\\scraper\\Hotstar-Disney-Plus-Scraper\\scrap\\lib\\site-packages\\pyppeteer\\execution_context.py:238\u001b[0m, in \u001b[0;36m_rewriteError\u001b[1;34m(error)\u001b[0m\n\u001b[0;32m    <a href='file:///d%3A/gitrepos/scraper/Hotstar-Disney-Plus-Scraper/scrap/lib/site-packages/pyppeteer/execution_context.py?line=235'>236</a>\u001b[0m     msg \u001b[39m=\u001b[39m \u001b[39m'\u001b[39m\u001b[39mExecution context was destroyed, most likely because of a navigation.\u001b[39m\u001b[39m'\u001b[39m  \u001b[39m# noqa: E501\u001b[39;00m\n\u001b[0;32m    <a href='file:///d%3A/gitrepos/scraper/Hotstar-Disney-Plus-Scraper/scrap/lib/site-packages/pyppeteer/execution_context.py?line=236'>237</a>\u001b[0m     \u001b[39mraise\u001b[39;00m \u001b[39mtype\u001b[39m(error)(msg)\n\u001b[1;32m--> <a href='file:///d%3A/gitrepos/scraper/Hotstar-Disney-Plus-Scraper/scrap/lib/site-packages/pyppeteer/execution_context.py?line=237'>238</a>\u001b[0m \u001b[39mraise\u001b[39;00m error\n",
      "File \u001b[1;32md:\\gitrepos\\scraper\\Hotstar-Disney-Plus-Scraper\\scrap\\lib\\site-packages\\pyppeteer\\execution_context.py:99\u001b[0m, in \u001b[0;36mExecutionContext.evaluateHandle\u001b[1;34m(self, pageFunction, force_expr, *args)\u001b[0m\n\u001b[0;32m     <a href='file:///d%3A/gitrepos/scraper/Hotstar-Disney-Plus-Scraper/scrap/lib/site-packages/pyppeteer/execution_context.py?line=95'>96</a>\u001b[0m     \u001b[39mreturn\u001b[39;00m \u001b[39mself\u001b[39m\u001b[39m.\u001b[39m_objectHandleFactory(remoteObject)\n\u001b[0;32m     <a href='file:///d%3A/gitrepos/scraper/Hotstar-Disney-Plus-Scraper/scrap/lib/site-packages/pyppeteer/execution_context.py?line=97'>98</a>\u001b[0m \u001b[39mtry\u001b[39;00m:\n\u001b[1;32m---> <a href='file:///d%3A/gitrepos/scraper/Hotstar-Disney-Plus-Scraper/scrap/lib/site-packages/pyppeteer/execution_context.py?line=98'>99</a>\u001b[0m     _obj \u001b[39m=\u001b[39m \u001b[39mawait\u001b[39;00m \u001b[39mself\u001b[39;49m\u001b[39m.\u001b[39;49m_client\u001b[39m.\u001b[39;49msend(\u001b[39m'\u001b[39;49m\u001b[39mRuntime.callFunctionOn\u001b[39;49m\u001b[39m'\u001b[39;49m, {\n\u001b[0;32m    <a href='file:///d%3A/gitrepos/scraper/Hotstar-Disney-Plus-Scraper/scrap/lib/site-packages/pyppeteer/execution_context.py?line=99'>100</a>\u001b[0m         \u001b[39m'\u001b[39;49m\u001b[39mfunctionDeclaration\u001b[39;49m\u001b[39m'\u001b[39;49m: \u001b[39mf\u001b[39;49m\u001b[39m'\u001b[39;49m\u001b[39m{\u001b[39;49;00mpageFunction\u001b[39m}\u001b[39;49;00m\u001b[39m\\n\u001b[39;49;00m\u001b[39m{\u001b[39;49;00msuffix\u001b[39m}\u001b[39;49;00m\u001b[39m\\n\u001b[39;49;00m\u001b[39m'\u001b[39;49m,\n\u001b[0;32m    <a href='file:///d%3A/gitrepos/scraper/Hotstar-Disney-Plus-Scraper/scrap/lib/site-packages/pyppeteer/execution_context.py?line=100'>101</a>\u001b[0m         \u001b[39m'\u001b[39;49m\u001b[39mexecutionContextId\u001b[39;49m\u001b[39m'\u001b[39;49m: \u001b[39mself\u001b[39;49m\u001b[39m.\u001b[39;49m_contextId,\n\u001b[0;32m    <a href='file:///d%3A/gitrepos/scraper/Hotstar-Disney-Plus-Scraper/scrap/lib/site-packages/pyppeteer/execution_context.py?line=101'>102</a>\u001b[0m         \u001b[39m'\u001b[39;49m\u001b[39marguments\u001b[39;49m\u001b[39m'\u001b[39;49m: [\u001b[39mself\u001b[39;49m\u001b[39m.\u001b[39;49m_convertArgument(arg) \u001b[39mfor\u001b[39;49;00m arg \u001b[39min\u001b[39;49;00m args],\n\u001b[0;32m    <a href='file:///d%3A/gitrepos/scraper/Hotstar-Disney-Plus-Scraper/scrap/lib/site-packages/pyppeteer/execution_context.py?line=102'>103</a>\u001b[0m         \u001b[39m'\u001b[39;49m\u001b[39mreturnByValue\u001b[39;49m\u001b[39m'\u001b[39;49m: \u001b[39mFalse\u001b[39;49;00m,\n\u001b[0;32m    <a href='file:///d%3A/gitrepos/scraper/Hotstar-Disney-Plus-Scraper/scrap/lib/site-packages/pyppeteer/execution_context.py?line=103'>104</a>\u001b[0m         \u001b[39m'\u001b[39;49m\u001b[39mawaitPromise\u001b[39;49m\u001b[39m'\u001b[39;49m: \u001b[39mTrue\u001b[39;49;00m,\n\u001b[0;32m    <a href='file:///d%3A/gitrepos/scraper/Hotstar-Disney-Plus-Scraper/scrap/lib/site-packages/pyppeteer/execution_context.py?line=104'>105</a>\u001b[0m         \u001b[39m'\u001b[39;49m\u001b[39muserGesture\u001b[39;49m\u001b[39m'\u001b[39;49m: \u001b[39mTrue\u001b[39;49;00m,\n\u001b[0;32m    <a href='file:///d%3A/gitrepos/scraper/Hotstar-Disney-Plus-Scraper/scrap/lib/site-packages/pyppeteer/execution_context.py?line=105'>106</a>\u001b[0m     })\n\u001b[0;32m    <a href='file:///d%3A/gitrepos/scraper/Hotstar-Disney-Plus-Scraper/scrap/lib/site-packages/pyppeteer/execution_context.py?line=106'>107</a>\u001b[0m \u001b[39mexcept\u001b[39;00m \u001b[39mException\u001b[39;00m \u001b[39mas\u001b[39;00m e:\n\u001b[0;32m    <a href='file:///d%3A/gitrepos/scraper/Hotstar-Disney-Plus-Scraper/scrap/lib/site-packages/pyppeteer/execution_context.py?line=107'>108</a>\u001b[0m     _rewriteError(e)\n",
      "File \u001b[1;32md:\\gitrepos\\scraper\\Hotstar-Disney-Plus-Scraper\\scrap\\lib\\site-packages\\pyppeteer\\connection.py:217\u001b[0m, in \u001b[0;36mCDPSession.send\u001b[1;34m(self, method, params)\u001b[0m\n\u001b[0;32m    <a href='file:///d%3A/gitrepos/scraper/Hotstar-Disney-Plus-Scraper/scrap/lib/site-packages/pyppeteer/connection.py?line=210'>211</a>\u001b[0m \u001b[39m\"\"\"Send message to the connected session.\u001b[39;00m\n\u001b[0;32m    <a href='file:///d%3A/gitrepos/scraper/Hotstar-Disney-Plus-Scraper/scrap/lib/site-packages/pyppeteer/connection.py?line=211'>212</a>\u001b[0m \n\u001b[0;32m    <a href='file:///d%3A/gitrepos/scraper/Hotstar-Disney-Plus-Scraper/scrap/lib/site-packages/pyppeteer/connection.py?line=212'>213</a>\u001b[0m \u001b[39m:arg str method: Protocol method name.\u001b[39;00m\n\u001b[0;32m    <a href='file:///d%3A/gitrepos/scraper/Hotstar-Disney-Plus-Scraper/scrap/lib/site-packages/pyppeteer/connection.py?line=213'>214</a>\u001b[0m \u001b[39m:arg dict params: Optional method parameters.\u001b[39;00m\n\u001b[0;32m    <a href='file:///d%3A/gitrepos/scraper/Hotstar-Disney-Plus-Scraper/scrap/lib/site-packages/pyppeteer/connection.py?line=214'>215</a>\u001b[0m \u001b[39m\"\"\"\u001b[39;00m\n\u001b[0;32m    <a href='file:///d%3A/gitrepos/scraper/Hotstar-Disney-Plus-Scraper/scrap/lib/site-packages/pyppeteer/connection.py?line=215'>216</a>\u001b[0m \u001b[39mif\u001b[39;00m \u001b[39mnot\u001b[39;00m \u001b[39mself\u001b[39m\u001b[39m.\u001b[39m_connection:\n\u001b[1;32m--> <a href='file:///d%3A/gitrepos/scraper/Hotstar-Disney-Plus-Scraper/scrap/lib/site-packages/pyppeteer/connection.py?line=216'>217</a>\u001b[0m     \u001b[39mraise\u001b[39;00m NetworkError(\n\u001b[0;32m    <a href='file:///d%3A/gitrepos/scraper/Hotstar-Disney-Plus-Scraper/scrap/lib/site-packages/pyppeteer/connection.py?line=217'>218</a>\u001b[0m         \u001b[39mf\u001b[39m\u001b[39m'\u001b[39m\u001b[39mProtocol Error (\u001b[39m\u001b[39m{\u001b[39;00mmethod\u001b[39m}\u001b[39;00m\u001b[39m): Session closed. Most likely the \u001b[39m\u001b[39m'\u001b[39m\n\u001b[0;32m    <a href='file:///d%3A/gitrepos/scraper/Hotstar-Disney-Plus-Scraper/scrap/lib/site-packages/pyppeteer/connection.py?line=218'>219</a>\u001b[0m         \u001b[39mf\u001b[39m\u001b[39m'\u001b[39m\u001b[39m{\u001b[39;00m\u001b[39mself\u001b[39m\u001b[39m.\u001b[39m_targetType\u001b[39m}\u001b[39;00m\u001b[39m has been closed.\u001b[39m\u001b[39m'\u001b[39m\n\u001b[0;32m    <a href='file:///d%3A/gitrepos/scraper/Hotstar-Disney-Plus-Scraper/scrap/lib/site-packages/pyppeteer/connection.py?line=219'>220</a>\u001b[0m     )\n\u001b[0;32m    <a href='file:///d%3A/gitrepos/scraper/Hotstar-Disney-Plus-Scraper/scrap/lib/site-packages/pyppeteer/connection.py?line=220'>221</a>\u001b[0m \u001b[39mself\u001b[39m\u001b[39m.\u001b[39m_lastId \u001b[39m+\u001b[39m\u001b[39m=\u001b[39m \u001b[39m1\u001b[39m\n\u001b[0;32m    <a href='file:///d%3A/gitrepos/scraper/Hotstar-Disney-Plus-Scraper/scrap/lib/site-packages/pyppeteer/connection.py?line=221'>222</a>\u001b[0m _id \u001b[39m=\u001b[39m \u001b[39mself\u001b[39m\u001b[39m.\u001b[39m_lastId\n",
      "\u001b[1;31mNetworkError\u001b[0m: Protocol Error (Runtime.callFunctionOn): Session closed. Most likely the page has been closed."
     ]
    }
   ],
   "source": [
    "\n",
    "# create empty list\n",
    "episodes = []\n",
    "tryf = []\n",
    "\n",
    "# scrape the data\n",
    "async def main():\n",
    "    browser = await launch()\n",
    "    page = await browser.newPage()\n",
    "    await page.goto('https://www.hotstar.com/in/genres/drama')\n",
    "\n",
    "    while len(episodes) <= 400:\n",
    "        html = await page.evaluate('''() => {\n",
    "            return document.querySelector('.landing-page').innerHTML;\n",
    "        }''')\n",
    "        # find episode date, link and detail\n",
    "        episodes_html = BeautifulSoup(html, 'html.parser')\n",
    "        \n",
    "        tryf.append(episodes_html)\n",
    "        for episode in episodes_html:\n",
    "            link = episode.find('a')\n",
    "            date = episode.find('div', {'class': 'title ellipsize'})\n",
    "            des = episode.find('div', {'class': 'description ellipsize'})\n",
    "\n",
    "            # check if value is None\n",
    "            if link is not None and date is not None and des is not None:\n",
    "                episode = (date.find('span', {'class': 'subtitle'}).get_text(), link.get('href'),  des.get_text())\n",
    "\n",
    "                # append episode detail to \"episodes\" list\n",
    "                if episode not in episodes:\n",
    "                    episodes.append(episode)\n",
    "\n",
    "        # scroll the page\n",
    "        await page.evaluate('window.scroll(0, document.body.scrollHeight)')\n",
    "        await asyncio.sleep(np.random.randint(5, 8))  # will wait to sending requests for 5 to 8 seconds\n",
    "    await browser.close()\n",
    "asyncio.get_event_loop().run_until_complete(main())\n",
    "print(len(episodes))\n"
   ]
  },
  {
   "cell_type": "code",
   "execution_count": 1,
   "metadata": {},
   "outputs": [],
   "source": [
    "import sys\n",
    "sys.path.append('scripts')\n",
    "from all_link import get_link"
   ]
  },
  {
   "cell_type": "code",
   "execution_count": 2,
   "metadata": {},
   "outputs": [
    {
     "name": "stdout",
     "output_type": "stream",
     "text": [
      "Getting  documentary\n",
      "Getting  adventure\n",
      "Getting  action\n",
      "Getting  shorts\n",
      "Getting  standup-comedy\n",
      "Getting  comedy\n",
      "Getting  food\n",
      "Getting  travel\n",
      "Getting  teen\n",
      "Getting  mystery\n",
      "Getting  sport\n",
      "Getting  science-fiction\n",
      "Getting  biopic\n",
      "Getting  musical\n",
      "Getting  concert-film\n",
      "Getting  talk-show\n",
      "Getting  animals-&-nature\n",
      "Getting  lifestyle\n",
      "Getting  historical\n",
      "Getting  reality\n",
      "Getting  family\n",
      "Getting  science\n",
      "Getting  horror\n",
      "Getting  mythology\n",
      "Getting  fantasy\n",
      "Getting  romance\n",
      "Getting  animation\n",
      "Getting  docudrama\n",
      "Getting  drama\n",
      "Getting  superhero\n",
      "Getting  crime\n",
      "Getting  kids\n",
      "Getting  thriller\n",
      "Getting  awards\n"
     ]
    }
   ],
   "source": [
    "obj_link = get_link('https://www.hotstar.com/in/genres')"
   ]
  }
 ],
 "metadata": {
  "interpreter": {
   "hash": "371b27ebb1c89e8893bab06f20734e2a3bb5a45d9b0aa571516a5b726a39883f"
  },
  "kernelspec": {
   "display_name": "Python 3.8.3 ('scrap': venv)",
   "language": "python",
   "name": "python3"
  },
  "language_info": {
   "codemirror_mode": {
    "name": "ipython",
    "version": 3
   },
   "file_extension": ".py",
   "mimetype": "text/x-python",
   "name": "python",
   "nbconvert_exporter": "python",
   "pygments_lexer": "ipython3",
   "version": "3.8.3"
  },
  "orig_nbformat": 4
 },
 "nbformat": 4,
 "nbformat_minor": 2
}
